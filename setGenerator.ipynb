{
 "cells": [
  {
   "cell_type": "code",
   "execution_count": 1,
   "metadata": {},
   "outputs": [],
   "source": [
    "import logging\n",
    "import time\n",
    "import lotr\n",
    "\n",
    "logging.basicConfig(level=logging.INFO, format='%(asctime)s: %(message)s')"
   ]
  },
  {
   "cell_type": "code",
   "execution_count": 2,
   "metadata": {},
   "outputs": [
    {
     "name": "stderr",
     "output_type": "stream",
     "text": [
      "2020-08-27 19:52:49,734: Reading project configuration...\n",
      "2020-08-27 19:52:49,744: ...Reading project configuration (0.006s)\n",
      "2020-08-27 19:52:49,745: Clearing the project folders...\n",
      "2020-08-27 19:52:49,747: ...Clearing the project folders (0.001s)\n",
      "2020-08-27 19:52:49,748: Downloading cards spreadsheet from Google Drive...\n",
      "2020-08-27 19:52:53,002: ...Downloading cards spreadsheet from Google Drive (3.253s)\n",
      "2020-08-27 19:52:53,003: Getting all sets to work on...\n",
      "2020-08-27 19:52:55,048: ...Getting all sets to work on (2.044s)\n",
      "2020-08-27 19:52:55,059: [ALeP - Oaths of the Rohirrim] Generating set.xml file for OCTGN...\n",
      "2020-08-27 19:52:58,407: [ALeP - Oaths of the Rohirrim] ...Generating set.xml file for OCTGN (3.347s)\n",
      "2020-08-27 19:52:58,409: [ALeP - Oaths of the Rohirrim, English] Backing up a previous Strange Eons xml file...\n",
      "2020-08-27 19:52:58,414: [ALeP - Oaths of the Rohirrim, English] ...Backing up a previous Strange Eons xml file (0.004s)\n",
      "2020-08-27 19:52:58,416: [ALeP - Oaths of the Rohirrim, English] Generating xml file for Strange Eons...\n",
      "2020-08-27 19:53:01,607: [ALeP - Oaths of the Rohirrim, English] ...Generating xml file for Strange Eons (3.19s)\n",
      "2020-08-27 19:53:01,608: [ALeP - Oaths of the Rohirrim, English] Updating the Strange Eons xml file with additional data...\n",
      "2020-08-27 19:53:01,641: [ALeP - Oaths of the Rohirrim, English] ...Updating the Strange Eons xml file with additional data (0.031s)\n",
      "2020-08-27 19:53:01,643: [ALeP - Oaths of the Rohirrim, English] Updating the Strange Eons xml file with hashes and skip flags...\n",
      "2020-08-27 19:53:01,709: [ALeP - Oaths of the Rohirrim, English] ...Updating the Strange Eons xml file with hashes and skip flags (0.064s)\n",
      "2020-08-27 19:53:01,715: [ALeP - Oaths of the Rohirrim, English] Copying raw image files into the project folder...\n",
      "2020-08-27 19:53:01,735: [ALeP - Oaths of the Rohirrim, English] ...Copying raw image files into the project folder (0.018s)\n",
      "2020-08-27 19:53:01,737: [ALeP - Oaths of the Rohirrim, English] Copying the Strange Eons xml file into the project...\n",
      "2020-08-27 19:53:01,741: [ALeP - Oaths of the Rohirrim, English] ...Copying the Strange Eons xml file into the project (0.003s)\n",
      "2020-08-27 19:53:01,743: Creating a Strange Eons project archive...\n",
      "2020-08-27 19:53:01,939: ...Creating a Strange Eons project archive (0.195s)\n",
      "2020-08-27 19:53:01,941: Done (12.207s)\n"
     ]
    }
   ],
   "source": [
    "timestamp = time.time()\n",
    "conf = lotr.read_conf()\n",
    "lotr.clear_project_folders()\n",
    "lotr.download_sheet(conf)\n",
    "sets = lotr.get_sets(conf)\n",
    "\n",
    "changes = False\n",
    "for set_data in sets:\n",
    "    set_id, set_name, set_row = set_data\n",
    "    if 'octgn' in conf['outputs']:\n",
    "        lotr.generate_octgn_xml(conf, set_name, set_row)\n",
    "\n",
    "    for lang in conf['languages']:\n",
    "        lotr.backup_previous_xml(conf, set_id, set_name, lang)\n",
    "        lotr.generate_xml(conf, set_id, set_name, set_row, lang)\n",
    "        lotr.update_xml(conf, set_id, set_name, lang)\n",
    "        new_hash, old_hash = lotr.calculate_hashes(set_id, set_name, lang)\n",
    "        if new_hash != old_hash:\n",
    "            changes = True\n",
    "\n",
    "        lotr.copy_raw_images(conf, set_id, set_name, lang)\n",
    "        lotr.copy_xml(set_id, set_name, lang)\n",
    "\n",
    "if changes:\n",
    "    lotr.create_project()\n",
    "else:\n",
    "    logging.info('No changes since the last run, skipping creating the'\n",
    "                 ' project')\n",
    "\n",
    "logging.info('Done (%ss)', round(time.time() - timestamp, 3))"
   ]
  },
  {
   "cell_type": "markdown",
   "metadata": {},
   "source": [
    "### Strange Eons Part:\n",
    "\n",
    "1. Open `setGenerator.seproject` in Strange Eons.\n",
    "2. Run `Script/makeCards` script by double clicking it.\n",
    "3. Once completed, close Strange Eons (wait until it finished packing the project)."
   ]
  },
  {
   "cell_type": "code",
   "execution_count": 3,
   "metadata": {},
   "outputs": [
    {
     "name": "stderr",
     "output_type": "stream",
     "text": [
      "2020-08-27 20:26:11,640: [ALeP - Oaths of the Rohirrim, English] Getting skip information...\n",
      "2020-08-27 20:26:11,645: [ALeP - Oaths of the Rohirrim, English] ...Getting skip information (0.004s)\n",
      "2020-08-27 20:26:11,646: [ALeP - Oaths of the Rohirrim, English] Generating images for DB and OCTGN outputs...\n",
      "2020-08-27 20:26:11,808: [ALeP - Oaths of the Rohirrim, English] ...Generating images for DB and OCTGN outputs (0.161s)\n",
      "2020-08-27 20:26:11,809: [ALeP - Oaths of the Rohirrim, English] Generating DB outputs...\n",
      "2020-08-27 20:26:12,232: [ALeP - Oaths of the Rohirrim, English] ...Generating DB outputs (0.423s)\n",
      "2020-08-27 20:26:12,233: [ALeP - Oaths of the Rohirrim, English] Generating OCTGN outputs...\n",
      "2020-08-27 20:26:12,738: [ALeP - Oaths of the Rohirrim, English] ...Generating OCTGN outputs (0.505s)\n",
      "2020-08-27 20:26:12,739: [ALeP - Oaths of the Rohirrim, English] Generating images for PDF outputs...\n",
      "2020-08-27 20:26:18,530: [ALeP - Oaths of the Rohirrim, English] CompletedProcess(args='\"C:\\\\Program Files\\\\GIMP 2\\\\bin\\\\gimp-console-2.10.exe\" -i -b \"(python-prepare-pdf-back-folder 1 \\\\\"Temp\\\\\\\\generate_png300_pdf.17b90ca1-7e3e-4891-99da-954a7833e88e.English\\\\\" \\\\\"imagesEons\\\\\\\\png300PDF\\\\\\\\17b90ca1-7e3e-4891-99da-954a7833e88e.English\\\\\")\" -b \"(gimp-quit 0)\"', returncode=0, stdout=b'EEEEeEeek! 4 GeglBuffers leaked\\n', stderr=b'batch command executed successfully\\nC:\\\\Program Files\\\\GIMP 2\\\\bin\\\\gimp-console-2.10.exe: GEGL-WARNING: (../gegl/buffer/gegl-tile-handler-cache.c:1076):gegl_tile_cache_destroy: runtime check failed: (g_queue_is_empty (&cache_queue))\\n')\n",
      "2020-08-27 20:28:18,855: [ALeP - Oaths of the Rohirrim, English] CompletedProcess(args='\"C:\\\\Program Files\\\\GIMP 2\\\\bin\\\\gimp-console-2.10.exe\" -i -b \"(python-prepare-pdf-front-folder 1 \\\\\"Temp\\\\\\\\generate_png300_pdf.17b90ca1-7e3e-4891-99da-954a7833e88e.English\\\\\" \\\\\"imagesEons\\\\\\\\png300PDF\\\\\\\\17b90ca1-7e3e-4891-99da-954a7833e88e.English\\\\\")\" -b \"(gimp-quit 0)\"', returncode=0, stdout=b'EEEEeEeek! 426 GeglBuffers leaked\\n', stderr=b'batch command executed successfully\\nC:\\\\Program Files\\\\GIMP 2\\\\bin\\\\gimp-console-2.10.exe: GEGL-WARNING: (../gegl/buffer/gegl-tile-handler-cache.c:1076):gegl_tile_cache_destroy: runtime check failed: (g_queue_is_empty (&cache_queue))\\n')\n",
      "2020-08-27 20:28:18,895: [ALeP - Oaths of the Rohirrim, English] ...Generating images for PDF outputs (126.155s)\n",
      "2020-08-27 20:28:18,897: [ALeP - Oaths of the Rohirrim, English] Generating PDF outputs...\n",
      "2020-08-27 20:29:01,402: [ALeP - Oaths of the Rohirrim, English] ...Generating PDF outputs (42.504s)\n",
      "2020-08-27 20:29:01,415: [ALeP - Oaths of the Rohirrim, English] Generating images for MakePlayingCards outputs...\n",
      "2020-08-27 20:47:37,402: [ALeP - Oaths of the Rohirrim, English] CompletedProcess(args='\"C:\\\\Program Files\\\\GIMP 2\\\\bin\\\\gimp-console-2.10.exe\" -i -b \"(python-prepare-makeplayingcards-folder 1 \\\\\"Temp\\\\\\\\generate_png800_bleedmpc.17b90ca1-7e3e-4891-99da-954a7833e88e.English\\\\\" \\\\\"imagesEons\\\\\\\\png800BleedMPC\\\\\\\\17b90ca1-7e3e-4891-99da-954a7833e88e.English\\\\\")\" -b \"(gimp-quit 0)\"', returncode=0, stdout=b'EEEEeEeek! 432 GeglBuffers leaked\\n', stderr=b'batch command executed successfully\\nC:\\\\Program Files\\\\GIMP 2\\\\bin\\\\gimp-console-2.10.exe: GEGL-WARNING: (../gegl/buffer/gegl-tile-handler-cache.c:1076):gegl_tile_cache_destroy: runtime check failed: (g_queue_is_empty (&cache_queue))\\n')\n",
      "2020-08-27 20:47:37,530: [ALeP - Oaths of the Rohirrim, English] ...Generating images for MakePlayingCards outputs (1116.114s)\n",
      "2020-08-27 20:47:37,531: [ALeP - Oaths of the Rohirrim, English] Generating MakePlayingCards outputs...\n",
      "2020-08-27 20:52:02,539: [ALeP - Oaths of the Rohirrim, English] ...Generating MakePlayingCards outputs (265.006s)\n",
      "2020-08-27 20:52:02,540: [ALeP - Oaths of the Rohirrim, English] Generating images for DriveThruCards outputs...\n",
      "2020-08-27 20:53:21,175: [ALeP - Oaths of the Rohirrim, English] CompletedProcess(args='\"C:\\\\Program Files\\\\GIMP 2\\\\bin\\\\gimp-console-2.10.exe\" -i -b \"(python-prepare-drivethrucards-folder 1 \\\\\"Temp\\\\\\\\generate_jpg300_bleeddtc.17b90ca1-7e3e-4891-99da-954a7833e88e.English\\\\\" \\\\\"imagesEons\\\\\\\\jpg300BleedDTC\\\\\\\\17b90ca1-7e3e-4891-99da-954a7833e88e.English\\\\\")\" -b \"(gimp-quit 0)\"', returncode=0, stdout=b'EEEEeEeek! 432 GeglBuffers leaked\\n', stderr=b'batch command executed successfully\\nC:\\\\Program Files\\\\GIMP 2\\\\bin\\\\gimp-console-2.10.exe: GEGL-WARNING: (../gegl/buffer/gegl-tile-handler-cache.c:1076):gegl_tile_cache_destroy: runtime check failed: (g_queue_is_empty (&cache_queue))\\n')\n",
      "2020-08-27 20:53:21,215: [ALeP - Oaths of the Rohirrim, English] ...Generating images for DriveThruCards outputs (78.673s)\n",
      "2020-08-27 20:53:21,217: [ALeP - Oaths of the Rohirrim, English] Generating DriveThruCards outputs...\n",
      "2020-08-27 20:54:11,244: [ALeP - Oaths of the Rohirrim, English] ...Generating DriveThruCards outputs (50.026s)\n",
      "2020-08-27 20:54:11,245: Done (1679.604s)\n"
     ]
    }
   ],
   "source": [
    "timestamp = time.time()\n",
    "for set_data in sets:\n",
    "    set_id, set_name, _ = set_data\n",
    "    for lang in conf['languages']:\n",
    "        skip_set, skip_ids = lotr.get_skip_info(set_id, set_name, lang)\n",
    "        if skip_set:\n",
    "            logging.info('[%s, %s] No changes since the last run,'\n",
    "                         ' skipping', set_name, lang)\n",
    "            continue\n",
    "\n",
    "        if 'db_octgn' in conf['outputs']:\n",
    "            lotr.generate_jpg300_nobleed(set_id, set_name, lang, skip_ids)\n",
    "            if 'db' in conf['outputs']:\n",
    "                lotr.generate_db(set_id, set_name, lang)\n",
    "            if 'octgn' in conf['outputs']:\n",
    "                lotr.generate_octgn(set_id, set_name, lang)\n",
    "\n",
    "        if 'pdf' in conf['outputs']:\n",
    "            lotr.generate_png300_pdf(conf, set_id, set_name, lang, skip_ids)\n",
    "            lotr.generate_pdf(set_id, set_name, lang)\n",
    "\n",
    "        if 'makeplayingcards' in conf['outputs']:\n",
    "            lotr.generate_png800_bleedmpc(conf, set_id, set_name, lang, skip_ids)\n",
    "            lotr.generate_mpc(conf, set_id, set_name, lang)\n",
    "\n",
    "        if 'drivethrucards' in conf['outputs']:\n",
    "            lotr.generate_jpg300_bleeddtc(conf, set_id, set_name, lang, skip_ids)\n",
    "            lotr.generate_dtc(conf, set_id, set_name, lang)\n",
    "\n",
    "logging.info('Done (%ss)', round(time.time() - timestamp, 3))"
   ]
  },
  {
   "cell_type": "markdown",
   "metadata": {},
   "source": [
    "Now there should be the following outputs:\n",
    "\n",
    "- `Output/OCTGN/<set name>/`: `<octgn id>/set.xml` and `<set name>.<language>.o8c` image packs for OCTGN (300 dpi JPG).\n",
    "- `Output/DB/<set name>.<language>/`: 300 dpi JPG images for general purposes.\n",
    "- `Output/PDF/<set name>.<language>/`: PDF files in `A4` and `letter` format for home printing.\n",
    "- `Output/DriveThruCards/<set name>.<language>/`: `zip` and `7z` archives of 300 dpi PNG images to be printed on DriveThruCards.com.\n",
    "- `Output/MakePlayingCards/<set name>.<language>/`: `zip` and `7z` archives of 800 dpi PNG images to be printed on MakePlayingCards.com."
   ]
  }
 ],
 "metadata": {
  "kernelspec": {
   "display_name": "Python 3",
   "language": "python",
   "name": "python3"
  },
  "language_info": {
   "codemirror_mode": {
    "name": "ipython",
    "version": 3
   },
   "file_extension": ".py",
   "mimetype": "text/x-python",
   "name": "python",
   "nbconvert_exporter": "python",
   "pygments_lexer": "ipython3",
   "version": "3.7.8"
  }
 },
 "nbformat": 4,
 "nbformat_minor": 4
}
