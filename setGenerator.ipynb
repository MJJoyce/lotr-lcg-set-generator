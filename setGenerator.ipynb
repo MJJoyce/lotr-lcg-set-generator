{
 "cells": [
  {
   "cell_type": "code",
   "execution_count": 1,
   "metadata": {},
   "outputs": [],
   "source": [
    "import lotr"
   ]
  },
  {
   "cell_type": "code",
   "execution_count": null,
   "metadata": {},
   "outputs": [],
   "source": [
    "conf = lotr.read_conf()\n",
    "lotr.clear_project_folders()\n",
    "lotr.download_sheet(conf)\n",
    "sets = lotr.get_sets(conf)"
   ]
  },
  {
   "cell_type": "code",
   "execution_count": null,
   "metadata": {},
   "outputs": [],
   "source": [
    "for set_data in sets:\n",
    "    set_id, set_name, set_row = set_data\n",
    "    if 'octgn' in conf['outputs']:\n",
    "        lotr.generate_octgn_xml(conf, set_name, set_row)\n",
    "\n",
    "    for lang in conf['languages']:\n",
    "        print('Processing set {} ({}):'.format(set_name, lang))\n",
    "        lotr.backup_previous_xml(conf, set_id, lang)\n",
    "        lotr.generate_xml(conf, set_id, set_row, lang)\n",
    "        lotr.update_xml(conf, set_id, lang)\n",
    "        lotr.calculate_hashes(set_id, lang)\n",
    "        lotr.copy_raw_images(conf, set_id, lang)\n",
    "        lotr.copy_xml(set_id, lang)"
   ]
  },
  {
   "cell_type": "code",
   "execution_count": 4,
   "metadata": {},
   "outputs": [
    {
     "name": "stdout",
     "output_type": "stream",
     "text": [
      "Creating a Strange Eons project archive\n"
     ]
    }
   ],
   "source": [
    "lotr.create_project()"
   ]
  },
  {
   "cell_type": "markdown",
   "metadata": {},
   "source": [
    "### Strange Eons Part:\n",
    "\n",
    "1. Open `setGenerator.seproject` in Strange Eons.\n",
    "2. Run `Script/makeCards` script by double clicking it.\n",
    "3. Once completed, close Strange Eons (wait until it finished packing the project)."
   ]
  },
  {
   "cell_type": "code",
   "execution_count": null,
   "metadata": {},
   "outputs": [],
   "source": [
    "for set_data in sets:\n",
    "    set_id, set_name, _ = set_data\n",
    "    for lang in conf['languages']:\n",
    "        print('Processing set {} ({}):'.format(set_name, lang))\n",
    "        skip_ids = lotr.get_skip_cards(set_id, lang)\n",
    "\n",
    "        if 'db_octgn' in conf['outputs']:\n",
    "            lotr.generate_jpg300_nobleed(set_id, lang, skip_ids)\n",
    "        if 'pdf' in conf['outputs']:\n",
    "            lotr.generate_png300_pdf(conf, set_id, lang, skip_ids)\n",
    "        if 'makeplayingcards' in conf['outputs']:\n",
    "            lotr.generate_png800_bleedmpc(conf, set_id, lang, skip_ids)\n",
    "        if 'drivethrucards' in conf['outputs']:\n",
    "            lotr.generate_png300_bleeddtc(conf, set_id, lang, skip_ids)\n",
    "\n",
    "        if 'db' in conf['outputs']:\n",
    "            lotr.generate_db(set_id, set_name, lang)\n",
    "        if 'octgn' in conf['outputs']:\n",
    "            lotr.generate_octgn(set_id, set_name, lang)\n",
    "        if 'pdf' in conf['outputs']:\n",
    "            lotr.generate_pdf(set_id, set_name, lang)\n",
    "        if 'makeplayingcards' in conf['outputs']:\n",
    "            lotr.generate_mpc(conf, set_id, set_name, lang)\n",
    "        if 'drivethrucards' in conf['outputs']:\n",
    "            lotr.generate_dtc(conf, set_id, set_name, lang)"
   ]
  },
  {
   "cell_type": "markdown",
   "metadata": {},
   "source": [
    "Now there should be the following outputs:\n",
    "\n",
    "- `Output/OCTGN/<set name>/`: `<octgn id>/set.xml` and `<set name>.<language>.o8c` image packs for OCTGN (300 dpi JPG).\n",
    "- `Output/DB/<set name>.<language>/`: 300 dpi JPG images for general purposes.\n",
    "- `Output/PDF/<set name>.<language>/`: PDF files in `A4` and `letter` format for home printing.\n",
    "- `Output/DriveThruCards/<set name>.<language>/`: `zip` and `7z` archives of 300 dpi PNG images to be printed on DriveThruCards.com.\n",
    "- `Output/MakePlayingCards/<set name>.<language>/`: `zip` and `7z` archives of 800 dpi PNG images to be printed on MakePlayingCards.com."
   ]
  }
 ],
 "metadata": {
  "kernelspec": {
   "display_name": "Python 3",
   "language": "python",
   "name": "python3"
  },
  "language_info": {
   "codemirror_mode": {
    "name": "ipython",
    "version": 3
   },
   "file_extension": ".py",
   "mimetype": "text/x-python",
   "name": "python",
   "nbconvert_exporter": "python",
   "pygments_lexer": "ipython3",
   "version": "3.7.8"
  }
 },
 "nbformat": 4,
 "nbformat_minor": 4
}
