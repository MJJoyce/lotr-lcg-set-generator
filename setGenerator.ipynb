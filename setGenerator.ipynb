{
 "cells": [
  {
   "cell_type": "code",
   "execution_count": 1,
   "metadata": {},
   "outputs": [],
   "source": [
    "import logging\n",
    "import time\n",
    "import lotr\n",
    "\n",
    "logging.basicConfig(level=logging.INFO, format='%(asctime)s: %(message)s')"
   ]
  },
  {
   "cell_type": "code",
   "execution_count": 2,
   "metadata": {},
   "outputs": [
    {
     "name": "stderr",
     "output_type": "stream",
     "text": [
      "2020-09-07 21:48:45,934: Reading project configuration...\n",
      "2020-09-07 21:48:45,934: ...Reading project configuration (0.0s)\n",
      "2020-09-07 21:48:45,950: Getting all sets to work on...\n",
      "2020-09-07 21:48:47,726: ...Getting all sets to work on (1.776s)\n"
     ]
    }
   ],
   "source": [
    "conf = lotr.read_conf()\n",
    "sets = lotr.get_sets(conf)"
   ]
  },
  {
   "cell_type": "code",
   "execution_count": 3,
   "metadata": {},
   "outputs": [
    {
     "name": "stderr",
     "output_type": "stream",
     "text": [
      "2020-09-07 21:48:55,665: Clearing the project folders...\n",
      "2020-09-07 21:48:55,719: ...Clearing the project folders (0.053s)\n",
      "2020-09-07 21:48:55,734: Downloading cards spreadsheet from Google Drive...\n",
      "2020-09-07 21:48:58,912: ...Downloading cards spreadsheet from Google Drive (3.178s)\n",
      "2020-09-07 21:48:58,912: [ALeP - Children of Eorl, English] Backing up a previous Strange Eons xml file...\n",
      "2020-09-07 21:48:58,912: [ALeP - Children of Eorl, English] ...Backing up a previous Strange Eons xml file (0.0s)\n",
      "2020-09-07 21:48:58,912: [ALeP - Children of Eorl, English] Generating xml file for Strange Eons...\n",
      "2020-09-07 21:49:01,480: [ALeP - Children of Eorl, English] ...Generating xml file for Strange Eons (2.568s)\n",
      "2020-09-07 21:49:01,480: [ALeP - Children of Eorl, English] Updating the Strange Eons xml file with additional data...\n",
      "2020-09-07 21:49:01,518: [ALeP - Children of Eorl, English] ...Updating the Strange Eons xml file with additional data (0.038s)\n",
      "2020-09-07 21:49:01,534: [ALeP - Children of Eorl, English] Updating the Strange Eons xml file with hashes and skip flags...\n",
      "2020-09-07 21:49:01,596: [ALeP - Children of Eorl, English] ...Updating the Strange Eons xml file with hashes and skip flags (0.062s)\n",
      "2020-09-07 21:49:01,596: [ALeP - Children of Eorl, English] Copying raw image files into the project folder...\n",
      "2020-09-07 21:49:01,935: [ALeP - Children of Eorl, English] ...Copying raw image files into the project folder (0.332s)\n",
      "2020-09-07 21:49:01,935: [ALeP - Children of Eorl, English] Copying the Strange Eons xml file into the project...\n",
      "2020-09-07 21:49:01,950: [ALeP - Children of Eorl, English] ...Copying the Strange Eons xml file into the project (0.016s)\n",
      "2020-09-07 21:49:01,950: Creating a Strange Eons project archive...\n",
      "2020-09-07 21:49:03,238: ...Creating a Strange Eons project archive (1.288s)\n",
      "2020-09-07 21:49:03,238: Done (7.573s)\n"
     ]
    }
   ],
   "source": [
    "timestamp = time.time()\n",
    "lotr.clear_project_folders()\n",
    "lotr.download_sheet(conf)\n",
    "\n",
    "changes = False\n",
    "for set_data in sets:\n",
    "    set_id, set_name, set_row = set_data\n",
    "    if 'octgn' in conf['outputs']:\n",
    "        lotr.generate_octgn_xml(conf, set_id, set_name, set_row)\n",
    "\n",
    "    for lang in conf['languages']:\n",
    "        lotr.generate_xml(conf, set_id, set_name, set_row, lang)\n",
    "        lotr.update_xml(conf, set_id, set_name, lang)\n",
    "        new_hash, old_hash = lotr.calculate_hashes(set_id, set_name, lang)\n",
    "        if new_hash != old_hash:\n",
    "            changes = True\n",
    "\n",
    "        lotr.copy_raw_images(conf, set_id, set_name, lang)\n",
    "        lotr.copy_xml(set_id, set_name, lang)\n",
    "\n",
    "if changes:\n",
    "    lotr.create_project()\n",
    "else:\n",
    "    logging.info('No changes since the last run, skipping creating the'\n",
    "                 ' project')\n",
    "\n",
    "logging.info('Done (%ss)', round(time.time() - timestamp, 3))"
   ]
  },
  {
   "cell_type": "markdown",
   "metadata": {},
   "source": [
    "### Strange Eons Part:\n",
    "\n",
    "1. Open `setGenerator.seproject` in Strange Eons.\n",
    "2. Run `Script/makeCards` script by double clicking it.\n",
    "3. Once completed, close Strange Eons (wait until it finished packing the project)."
   ]
  },
  {
   "cell_type": "code",
   "execution_count": 4,
   "metadata": {},
   "outputs": [
    {
     "name": "stderr",
     "output_type": "stream",
     "text": [
      "2020-09-07 21:59:22,914: [ALeP - Children of Eorl, English] Getting skip information...\n",
      "2020-09-07 21:59:22,930: [ALeP - Children of Eorl, English] ...Getting skip information (0.016s)\n",
      "2020-09-07 21:59:22,930: [ALeP - Children of Eorl, English] Generating images for PDF outputs...\n",
      "2020-09-07 21:59:50,365: [ALeP - Children of Eorl, English] CompletedProcess(args='\"C:\\\\Program Files\\\\GIMP 2\\\\bin\\\\gimp-console-2.10.exe\" -i -b \"(python-prepare-pdf-back-folder 1 \\\\\"Temp\\\\\\\\generate_png300_pdf.8a3273ca-1ccd-4e07-913b-766fcc49fe6f.English\\\\\" \\\\\"imagesEons\\\\\\\\png300PDF\\\\\\\\8a3273ca-1ccd-4e07-913b-766fcc49fe6f.English\\\\\")\" -b \"(gimp-quit 0)\"', returncode=0, stdout=b'EEEEeEeek! 45 GeglBuffers leaked\\n', stderr=b'batch command executed successfully\\nC:\\\\Program Files\\\\GIMP 2\\\\bin\\\\gimp-console-2.10.exe: GEGL-WARNING: (../gegl/buffer/gegl-tile-handler-cache.c:1076):gegl_tile_cache_destroy: runtime check failed: (g_queue_is_empty (&cache_queue))\\n')\n",
      "2020-09-07 22:04:09,079: [ALeP - Children of Eorl, English] CompletedProcess(args='\"C:\\\\Program Files\\\\GIMP 2\\\\bin\\\\gimp-console-2.10.exe\" -i -b \"(python-prepare-pdf-front-folder 1 \\\\\"Temp\\\\\\\\generate_png300_pdf.8a3273ca-1ccd-4e07-913b-766fcc49fe6f.English\\\\\" \\\\\"imagesEons\\\\\\\\png300PDF\\\\\\\\8a3273ca-1ccd-4e07-913b-766fcc49fe6f.English\\\\\")\" -b \"(gimp-quit 0)\"', returncode=0, stdout=b'EEEEeEeek! 926 GeglBuffers leaked\\n', stderr=b'batch command executed successfully\\nC:\\\\Program Files\\\\GIMP 2\\\\bin\\\\gimp-console-2.10.exe: GEGL-WARNING: (../gegl/buffer/gegl-tile-handler-cache.c:1076):gegl_tile_cache_destroy: runtime check failed: (g_queue_is_empty (&cache_queue))\\n')\n",
      "2020-09-07 22:04:09,179: [ALeP - Children of Eorl, English] ...Generating images for PDF outputs (286.249s)\n",
      "2020-09-07 22:04:09,179: [ALeP - Children of Eorl, English] Generating PDF outputs...\n"
     ]
    },
    {
     "ename": "PermissionError",
     "evalue": "[Errno 13] Permission denied: 'Output\\\\PDF\\\\ALeP - Children of Eorl.English\\\\A4.ALeP - Children of Eorl.English.pdf'",
     "output_type": "error",
     "traceback": [
      "\u001b[1;31m---------------------------------------------------------------------------\u001b[0m",
      "\u001b[1;31mPermissionError\u001b[0m                           Traceback (most recent call last)",
      "\u001b[1;32m<ipython-input-4-de21a835f5eb>\u001b[0m in \u001b[0;36m<module>\u001b[1;34m\u001b[0m\n\u001b[0;32m     18\u001b[0m         \u001b[1;32mif\u001b[0m \u001b[1;34m'pdf'\u001b[0m \u001b[1;32min\u001b[0m \u001b[0mconf\u001b[0m\u001b[1;33m[\u001b[0m\u001b[1;34m'outputs'\u001b[0m\u001b[1;33m]\u001b[0m\u001b[1;33m:\u001b[0m\u001b[1;33m\u001b[0m\u001b[1;33m\u001b[0m\u001b[0m\n\u001b[0;32m     19\u001b[0m             \u001b[0mlotr\u001b[0m\u001b[1;33m.\u001b[0m\u001b[0mgenerate_png300_pdf\u001b[0m\u001b[1;33m(\u001b[0m\u001b[0mconf\u001b[0m\u001b[1;33m,\u001b[0m \u001b[0mset_id\u001b[0m\u001b[1;33m,\u001b[0m \u001b[0mset_name\u001b[0m\u001b[1;33m,\u001b[0m \u001b[0mlang\u001b[0m\u001b[1;33m,\u001b[0m \u001b[0mskip_ids\u001b[0m\u001b[1;33m)\u001b[0m\u001b[1;33m\u001b[0m\u001b[1;33m\u001b[0m\u001b[0m\n\u001b[1;32m---> 20\u001b[1;33m             \u001b[0mlotr\u001b[0m\u001b[1;33m.\u001b[0m\u001b[0mgenerate_pdf\u001b[0m\u001b[1;33m(\u001b[0m\u001b[0mset_id\u001b[0m\u001b[1;33m,\u001b[0m \u001b[0mset_name\u001b[0m\u001b[1;33m,\u001b[0m \u001b[0mlang\u001b[0m\u001b[1;33m)\u001b[0m\u001b[1;33m\u001b[0m\u001b[1;33m\u001b[0m\u001b[0m\n\u001b[0m\u001b[0;32m     21\u001b[0m \u001b[1;33m\u001b[0m\u001b[0m\n\u001b[0;32m     22\u001b[0m         \u001b[1;32mif\u001b[0m \u001b[1;34m'makeplayingcards'\u001b[0m \u001b[1;32min\u001b[0m \u001b[0mconf\u001b[0m\u001b[1;33m[\u001b[0m\u001b[1;34m'outputs'\u001b[0m\u001b[1;33m]\u001b[0m\u001b[1;33m:\u001b[0m\u001b[1;33m\u001b[0m\u001b[1;33m\u001b[0m\u001b[0m\n",
      "\u001b[1;32mc:\\lotr\\lotr-lcg-set-generator\\lotr.py\u001b[0m in \u001b[0;36mgenerate_pdf\u001b[1;34m(set_id, set_name, lang)\u001b[0m\n\u001b[0;32m    951\u001b[0m             \u001b[0mcanvas\u001b[0m\u001b[1;33m.\u001b[0m\u001b[0mshowPage\u001b[0m\u001b[1;33m(\u001b[0m\u001b[1;33m)\u001b[0m\u001b[1;33m\u001b[0m\u001b[1;33m\u001b[0m\u001b[0m\n\u001b[0;32m    952\u001b[0m \u001b[1;33m\u001b[0m\u001b[0m\n\u001b[1;32m--> 953\u001b[1;33m         \u001b[0mcanvas\u001b[0m\u001b[1;33m.\u001b[0m\u001b[0msave\u001b[0m\u001b[1;33m(\u001b[0m\u001b[1;33m)\u001b[0m\u001b[1;33m\u001b[0m\u001b[1;33m\u001b[0m\u001b[0m\n\u001b[0m\u001b[0;32m    954\u001b[0m \u001b[1;33m\u001b[0m\u001b[0m\n\u001b[0;32m    955\u001b[0m     logging.info('[%s, %s] ...Generating PDF outputs (%ss)',\n",
      "\u001b[1;32mc:\\lotr\\lotr-lcg-set-generator\\env\\lib\\site-packages\\reportlab\\pdfgen\\canvas.py\u001b[0m in \u001b[0;36msave\u001b[1;34m(self)\u001b[0m\n\u001b[0;32m   1242\u001b[0m            After this operation the canvas must not be used further.\"\"\"\n\u001b[0;32m   1243\u001b[0m         \u001b[1;32mif\u001b[0m \u001b[0mlen\u001b[0m\u001b[1;33m(\u001b[0m\u001b[0mself\u001b[0m\u001b[1;33m.\u001b[0m\u001b[0m_code\u001b[0m\u001b[1;33m)\u001b[0m\u001b[1;33m:\u001b[0m \u001b[0mself\u001b[0m\u001b[1;33m.\u001b[0m\u001b[0mshowPage\u001b[0m\u001b[1;33m(\u001b[0m\u001b[1;33m)\u001b[0m\u001b[1;33m\u001b[0m\u001b[1;33m\u001b[0m\u001b[0m\n\u001b[1;32m-> 1244\u001b[1;33m         \u001b[0mself\u001b[0m\u001b[1;33m.\u001b[0m\u001b[0m_doc\u001b[0m\u001b[1;33m.\u001b[0m\u001b[0mSaveToFile\u001b[0m\u001b[1;33m(\u001b[0m\u001b[0mself\u001b[0m\u001b[1;33m.\u001b[0m\u001b[0m_filename\u001b[0m\u001b[1;33m,\u001b[0m \u001b[0mself\u001b[0m\u001b[1;33m)\u001b[0m\u001b[1;33m\u001b[0m\u001b[1;33m\u001b[0m\u001b[0m\n\u001b[0m\u001b[0;32m   1245\u001b[0m \u001b[1;33m\u001b[0m\u001b[0m\n\u001b[0;32m   1246\u001b[0m     \u001b[1;32mdef\u001b[0m \u001b[0mgetpdfdata\u001b[0m\u001b[1;33m(\u001b[0m\u001b[0mself\u001b[0m\u001b[1;33m)\u001b[0m\u001b[1;33m:\u001b[0m\u001b[1;33m\u001b[0m\u001b[1;33m\u001b[0m\u001b[0m\n",
      "\u001b[1;32mc:\\lotr\\lotr-lcg-set-generator\\env\\lib\\site-packages\\reportlab\\pdfbase\\pdfdoc.py\u001b[0m in \u001b[0;36mSaveToFile\u001b[1;34m(self, filename, canvas)\u001b[0m\n\u001b[0;32m    216\u001b[0m             \u001b[0mmyfile\u001b[0m \u001b[1;33m=\u001b[0m \u001b[1;36m1\u001b[0m\u001b[1;33m\u001b[0m\u001b[1;33m\u001b[0m\u001b[0m\n\u001b[0;32m    217\u001b[0m             \u001b[0mfilename\u001b[0m \u001b[1;33m=\u001b[0m \u001b[0mmakeFileName\u001b[0m\u001b[1;33m(\u001b[0m\u001b[0mfilename\u001b[0m\u001b[1;33m)\u001b[0m\u001b[1;33m\u001b[0m\u001b[1;33m\u001b[0m\u001b[0m\n\u001b[1;32m--> 218\u001b[1;33m             \u001b[0mf\u001b[0m \u001b[1;33m=\u001b[0m \u001b[0mopen\u001b[0m\u001b[1;33m(\u001b[0m\u001b[0mfilename\u001b[0m\u001b[1;33m,\u001b[0m \u001b[1;34m\"wb\"\u001b[0m\u001b[1;33m)\u001b[0m\u001b[1;33m\u001b[0m\u001b[1;33m\u001b[0m\u001b[0m\n\u001b[0m\u001b[0;32m    219\u001b[0m         \u001b[0mdata\u001b[0m \u001b[1;33m=\u001b[0m \u001b[0mself\u001b[0m\u001b[1;33m.\u001b[0m\u001b[0mGetPDFData\u001b[0m\u001b[1;33m(\u001b[0m\u001b[0mcanvas\u001b[0m\u001b[1;33m)\u001b[0m\u001b[1;33m\u001b[0m\u001b[1;33m\u001b[0m\u001b[0m\n\u001b[0;32m    220\u001b[0m         \u001b[1;32mif\u001b[0m \u001b[0misUnicode\u001b[0m\u001b[1;33m(\u001b[0m\u001b[0mdata\u001b[0m\u001b[1;33m)\u001b[0m\u001b[1;33m:\u001b[0m\u001b[1;33m\u001b[0m\u001b[1;33m\u001b[0m\u001b[0m\n",
      "\u001b[1;31mPermissionError\u001b[0m: [Errno 13] Permission denied: 'Output\\\\PDF\\\\ALeP - Children of Eorl.English\\\\A4.ALeP - Children of Eorl.English.pdf'"
     ]
    }
   ],
   "source": [
    "timestamp = time.time()\n",
    "for set_data in sets:\n",
    "    set_id, set_name, _ = set_data\n",
    "    for lang in conf['languages']:\n",
    "        skip_set, skip_ids = lotr.get_skip_info(set_id, set_name, lang)\n",
    "        if skip_set:\n",
    "            logging.info('[%s, %s] No changes since the last run,'\n",
    "                         ' skipping', set_name, lang)\n",
    "            continue\n",
    "\n",
    "        if 'db_octgn' in conf['outputs']:\n",
    "            lotr.generate_jpg300_nobleed(set_id, set_name, lang, skip_ids)\n",
    "            if 'db' in conf['outputs']:\n",
    "                lotr.generate_db(set_id, set_name, lang)\n",
    "            if 'octgn' in conf['outputs']:\n",
    "                lotr.generate_octgn(set_id, set_name, lang)\n",
    "\n",
    "        if 'pdf' in conf['outputs']:\n",
    "            lotr.generate_png300_pdf(conf, set_id, set_name, lang, skip_ids)\n",
    "            lotr.generate_pdf(set_id, set_name, lang)\n",
    "\n",
    "        if 'makeplayingcards' in conf['outputs']:\n",
    "            lotr.generate_png800_bleedmpc(conf, set_id, set_name, lang, skip_ids)\n",
    "            lotr.generate_mpc(conf, set_id, set_name, lang)\n",
    "\n",
    "        if 'drivethrucards' in conf['outputs']:\n",
    "            lotr.generate_jpg300_bleeddtc(conf, set_id, set_name, lang, skip_ids)\n",
    "            lotr.generate_dtc(conf, set_id, set_name, lang)\n",
    "\n",
    "if 'octgn' in conf['outputs'] and conf['octgn_destination_path']:\n",
    "    lotr.copy_octgn_outputs(conf)\n",
    "\n",
    "logging.info('Done (%ss)', round(time.time() - timestamp, 3))"
   ]
  },
  {
   "cell_type": "markdown",
   "metadata": {},
   "source": [
    "Now there should be the following outputs:\n",
    "\n",
    "- `Output/OCTGN/<set name>/`: `<octgn id>/set.xml` and `<set name>.<language>.o8c` image packs for OCTGN (300 dpi JPG).\n",
    "- `Output/DB/<set name>.<language>/`: 300 dpi JPG images for general purposes.\n",
    "- `Output/PDF/<set name>.<language>/`: PDF files in `A4` and `letter` format for home printing.\n",
    "- `Output/DriveThruCards/<set name>.<language>/`: `zip` and `7z` archives of 300 dpi PNG images to be printed on DriveThruCards.com.\n",
    "- `Output/MakePlayingCards/<set name>.<language>/`: `zip` and `7z` archives of 800 dpi PNG images to be printed on MakePlayingCards.com.\n",
    "\n",
    "Additionally, if you specified `octgn_destination_path`, all OCTGN outputs are packed into a destination archive."
   ]
  }
 ],
 "metadata": {
  "kernelspec": {
   "display_name": "Python 3",
   "language": "python",
   "name": "python3"
  },
  "language_info": {
   "codemirror_mode": {
    "name": "ipython",
    "version": 3
   },
   "file_extension": ".py",
   "mimetype": "text/x-python",
   "name": "python",
   "nbconvert_exporter": "python",
   "pygments_lexer": "ipython3",
   "version": "3.7.8"
  }
 },
 "nbformat": 4,
 "nbformat_minor": 4
}
