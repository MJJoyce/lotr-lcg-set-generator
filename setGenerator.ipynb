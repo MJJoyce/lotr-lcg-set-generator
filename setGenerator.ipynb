{
 "cells": [
  {
   "cell_type": "code",
   "execution_count": 1,
   "metadata": {},
   "outputs": [],
   "source": [
    "import lotr"
   ]
  },
  {
   "cell_type": "code",
   "execution_count": 4,
   "metadata": {},
   "outputs": [
    {
     "name": "stdout",
     "output_type": "stream",
     "text": [
      "Reading project configuration\n",
      "Clearing the project folders\n",
      "Downloading cards spreadsheet from Google Drive\n",
      "Getting all sets to work on\n"
     ]
    }
   ],
   "source": [
    "conf = lotr.read_conf()\n",
    "lotr.clear_project_folders()\n",
    "lotr.download_sheet(conf)\n",
    "sets = lotr.get_sets(conf)"
   ]
  },
  {
   "cell_type": "code",
   "execution_count": 5,
   "metadata": {},
   "outputs": [
    {
     "name": "stdout",
     "output_type": "stream",
     "text": [
      "Processing set ID 8a3273ca-1ccd-4e07-913b-766fcc49fe6f:\n",
      "  Backing up a previous Strange Eons xml file\n",
      "  Generating xml files for StrangeEons and OCTGN\n",
      "  Updating the Strange Eons xml file with additional data\n",
      "  Updating the Strange Eons xml file with hashes and skip flag\n",
      "  Copying raw image files into the project folder\n",
      "  Copying the Strange Eons xml file for the set into the project\n",
      "Processing set ID 17b90ca1-7e3e-4891-99da-954a7833e88e:\n",
      "  Backing up a previous Strange Eons xml file\n",
      "  Generating xml files for StrangeEons and OCTGN\n",
      "  Updating the Strange Eons xml file with additional data\n",
      "  Updating the Strange Eons xml file with hashes and skip flag\n",
      "  Copying raw image files into the project folder\n",
      "  Copying the Strange Eons xml file for the set into the project\n"
     ]
    }
   ],
   "source": [
    "for set_data in sets:\n",
    "    set_id, _, set_row = set_data\n",
    "    print('Processing set ID {}:'.format(set_id))\n",
    "    lotr.backup_previous_xml(conf, set_id)\n",
    "    lotr.generate_xml(conf, set_row)\n",
    "    lotr.update_xml(conf, set_id)\n",
    "    lotr.calculate_hashes(set_id)\n",
    "    lotr.copy_raw_images(conf, set_id)\n",
    "    lotr.copy_xml(set_id)"
   ]
  },
  {
   "cell_type": "code",
   "execution_count": 6,
   "metadata": {},
   "outputs": [
    {
     "name": "stdout",
     "output_type": "stream",
     "text": [
      "Creating a Strange Eons project archive\n"
     ]
    }
   ],
   "source": [
    "lotr.create_project()"
   ]
  },
  {
   "cell_type": "markdown",
   "metadata": {},
   "source": [
    "### Manual Strange Eons Part:\n",
    "\n",
    "1. Open `setGenerator.seproject` generated above.\n",
    "2. Run `Script/makeCards` script by double clicking it.  This will take the templates, fill them with values from `xml` files and export results in all the required formats.\n",
    "3. Once completed, close Strange Eons."
   ]
  },
  {
   "cell_type": "code",
   "execution_count": null,
   "metadata": {},
   "outputs": [],
   "source": [
    "conf = lotr.read_conf()\n",
    "sets = lotr.get_sets(conf)"
   ]
  },
  {
   "cell_type": "code",
   "execution_count": null,
   "metadata": {},
   "outputs": [],
   "source": [
    "for set_data in sets:\n",
    "    set_id, set_name, _ = set_data\n",
    "    print('Processing set ID {}:'.format(set_id))\n",
    "    skip_ids = lotr.get_skip_cards(set_id)\n",
    "\n",
    "    if 'db_octgn' in conf['outputs']:\n",
    "        lotr.generate_jpg300_nobleed(set_id, skip_ids)\n",
    "    if 'pdf' in conf['outputs']:\n",
    "        lotr.generate_png300_pdf(conf, set_id, skip_ids)\n",
    "    if 'makeplayingcards' in conf['outputs']:\n",
    "        lotr.generate_png800_bleedmpc(conf, set_id, skip_ids)\n",
    "\n",
    "    if 'db' in conf['outputs']:\n",
    "        lotr.generate_db(set_id, set_name)\n",
    "    if 'octgn' in conf['outputs']:\n",
    "        lotr.generate_octgn(set_id)\n",
    "    if 'pdf' in conf['outputs']:\n",
    "        lotr.generate_pdf(set_id, set_name)\n",
    "    if 'makeplayingcards_zip' in conf['outputs']:\n",
    "        lotr.generate_mpc_zip(set_id, set_name)\n",
    "    if 'makeplayingcards_7z' in conf['outputs']:\n",
    "        lotr.generate_mpc_7z(set_id, set_name)"
   ]
  },
  {
   "cell_type": "markdown",
   "metadata": {},
   "source": [
    "Now there should be the following outputs:\n",
    "\n",
    "1. `Output/DB/<set name>/`: 300 dpi JPG images for general purposes.\n",
    "2. `Output/MakePlayingCards/<set name>`: `zip` and `7z` archives of 800 dpi PNG images\n",
    "    to be printed on MakePlayingCards.com.\n",
    "3. `Output/OCTGN/<octgnid>/:` `set.xml` and `o8c` image pack (300 dpi JPG) for OCTGN.\n",
    "    Add the latter using the \"Add Image Packs\" button from within OCTGN.\n",
    "4. `Output/PDF/<set name>/`: PDF files in `A4` and `letter` format for home printing."
   ]
  }
 ],
 "metadata": {
  "kernelspec": {
   "display_name": "Python 3",
   "language": "python",
   "name": "python3"
  },
  "language_info": {
   "codemirror_mode": {
    "name": "ipython",
    "version": 3
   },
   "file_extension": ".py",
   "mimetype": "text/x-python",
   "name": "python",
   "nbconvert_exporter": "python",
   "pygments_lexer": "ipython3",
   "version": "3.7.8"
  }
 },
 "nbformat": 4,
 "nbformat_minor": 4
}
