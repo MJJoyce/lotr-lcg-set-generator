{
 "cells": [
  {
   "cell_type": "code",
   "execution_count": 88,
   "metadata": {},
   "outputs": [],
   "source": [
    "import os\n",
    "import requests\n",
    "import shutil\n",
    "import xlwings as xw\n",
    "import xml.etree.ElementTree as ET\n",
    "import yaml\n",
    "from zipfile import ZipFile"
   ]
  },
  {
   "cell_type": "code",
   "execution_count": 89,
   "metadata": {
    "scrolled": true
   },
   "outputs": [],
   "source": [
    "PROJECT_FOLDER = 'Frogmorton'\n",
    "SHEET_NAME = 'setExcel'\n",
    "\n",
    "CONFIGURATION_PATH = 'configuration.yaml'\n",
    "IMAGES_PATH = os.path.join(PROJECT_FOLDER, 'imagesRaw')\n",
    "MACROS_PATH = 'macros.xlsm'\n",
    "MACROS_COPY_PATH = 'macros_copy.xlsm'\n",
    "PROJECT_PATH = 'setGenerator.seproject'\n",
    "XML_PATH = 'setEons.xml'\n",
    "ZIP_PATH = 'setGenerator.zip'"
   ]
  },
  {
   "cell_type": "code",
   "execution_count": 97,
   "metadata": {},
   "outputs": [],
   "source": [
    "# Download the cards spreadsheet from Google Drive\n",
    "with open(CONFIGURATION_PATH, 'r') as f_conf:\n",
    "    conf = yaml.safe_load(f_conf)\n",
    "\n",
    "sheet_path = '{}.{}'.format(SHEET_NAME, conf['sheet_type'])\n",
    "if conf['sheet_type'] == 'xlsm':\n",
    "    url = 'https://drive.google.com/uc?export=download&id={}'.format(conf['sheet_gdid'])\n",
    "else:\n",
    "    url = 'https://docs.google.com/spreadsheets/d/{}/export?format=xlsx'.format(conf['sheet_gdid'])\n",
    "\n",
    "myfile = requests.get(url)\n",
    "with open(sheet_path, 'wb') as f_sheet:\n",
    "    f_sheet.write(myfile.content)"
   ]
  },
  {
   "cell_type": "code",
   "execution_count": 98,
   "metadata": {},
   "outputs": [],
   "source": [
    "# Copy Excel Sheet over to sheet that contains the macros, and run the macros\n",
    "# This will create two .xml files. One in the main directory called setEons.xml, which contains the card data needed by\n",
    "# Strange Eons.\n",
    "# The second will be placed in the setOCTGN folder, which will be copied over to your OCTGN folder later in this workbook.\n",
    "shutil.copyfile(MACROS_PATH, MACROS_COPY_PATH)\n",
    "\n",
    "app = xw.App(visible=False) # IF YOU WANT EXCEL TO RUN IN BACKGROUND\n",
    "xlws = {}\n",
    "\n",
    "xlwb1 = xw.Book(sheet_path)\n",
    "xlws['ws1a'] = xlwb1.sheets['Sets']\n",
    "xlws['ws1b'] = xlwb1.sheets['Card Data']\n",
    "\n",
    "xlwb2 = xw.Book(MACROS_COPY_PATH)\n",
    "xlws['ws2a'] = xlwb2.sheets['Sets']\n",
    "xlws['ws2b'] = xlwb2.sheets['Card Data']\n",
    "\n",
    "newVal = xlws['ws1a'].range('A3:B3').value   # get set id/name\n",
    "xlws['ws2a'].range('A3:B3').value = newVal   # update set id/name\n",
    "\n",
    "newVal = xlws['ws1b'].range('A2:AV1000').value   # get card data\n",
    "xlws['ws2b'].range('A2:AV1000').value = newVal   # update card data\n",
    "\n",
    "# This macro will generate a folder under setOCTGN, which which will be copied over to OCTGN\\GameDatabase\\a21af4e8-be4b-4cda-a6b6-534f9717391f\\Sets \n",
    "macro1 = xlwb2.macro('SaveOCTGN')\n",
    "macro1()\n",
    "\n",
    "# This macro generates a file called setEons.xml, which is used by the Strange Eons macros.\n",
    "macro2 = xlwb2.macro('SaveXML')\n",
    "macro2()\n",
    "\n",
    "xlwb2.save()\n",
    "xlwb1.close()\n",
    "xlwb2.close()"
   ]
  },
  {
   "cell_type": "code",
   "execution_count": 100,
   "metadata": {},
   "outputs": [],
   "source": [
    "# Delete old image files\n",
    "for foldername, _, filenames in os.walk(IMAGES_PATH):\n",
    "    for filename in filenames:\n",
    "        if filename.split('.')[-1] in ('jpg', 'png'):\n",
    "            os.remove(os.path.join(IMAGES_PATH, filename))\n",
    "\n",
    "    break\n",
    "\n"
   ]
  },
  {
   "cell_type": "code",
   "execution_count": 101,
   "metadata": {},
   "outputs": [],
   "source": [
    "# Parse artwork images\n",
    "images = {}\n",
    "for foldername, _, filenames in os.walk(conf['artwork_path']):\n",
    "    for filename in filenames:\n",
    "        if filename.split('.')[-1] in ('jpg', 'png'):\n",
    "            card_number = int(filename.split('_')[0])\n",
    "            images[card_number] = filename\n",
    "\n",
    "    break"
   ]
  },
  {
   "cell_type": "code",
   "execution_count": 102,
   "metadata": {},
   "outputs": [],
   "source": [
    "# Copy artwork images and update generated XML with filenames\n",
    "tree = ET.parse(XML_PATH)\n",
    "root = tree.getroot()\n",
    "\n",
    "for card in root[0]:\n",
    "    card_number = int([p for p in card\n",
    "                       if p.attrib['name'] == 'Card Number'\n",
    "                      ][0].attrib['value'])\n",
    "    filename = images.get(card_number)\n",
    "    if not filename:\n",
    "        continue\n",
    "\n",
    "    shutil.copyfile(os.path.join(conf['artwork_path'], filename),\n",
    "                    os.path.join(IMAGES_PATH, filename))\n",
    "    prop = ET.SubElement(card, 'property')\n",
    "    prop.set('name', 'Artwork')\n",
    "    prop.set('value', filename)\n",
    "\n",
    "    is_artist = [p for p in card\n",
    "                 if p.attrib['name'] == 'Artist']\n",
    "    if not is_artist and '_Artist_' in filename:\n",
    "        artist = '.'.join('_Artist_'.join(\n",
    "            filename.split('_Artist_')[1:]).split('.')[:-1])\n",
    "        artist = artist.replace('_', ' ')\n",
    "        prop = ET.SubElement(card, 'property')\n",
    "        prop.set('name', 'Artist')\n",
    "        prop.set('value', artist)\n",
    "        \n",
    "tree.write(XML_PATH)"
   ]
  },
  {
   "cell_type": "code",
   "execution_count": 112,
   "metadata": {},
   "outputs": [],
   "source": [
    "# Create Strange Eons project\n",
    "with ZipFile(ZIP_PATH, 'w') as zip_obj:\n",
    "    for foldername, _, filenames in os.walk(PROJECT_FOLDER):\n",
    "        for filename in filenames:\n",
    "            if filename != '.gitignore':\n",
    "                zip_obj.write(os.path.join(foldername, filename))\n",
    "\n",
    "os.replace(ZIP_PATH, PROJECT_PATH)"
   ]
  },
  {
   "cell_type": "markdown",
   "metadata": {},
   "source": [
    "### Strange Eons instructions:\n",
    "\n",
    "Start by opening up the `setGenerator.seproject` file in the main directory.\n",
    "\n",
    "### Now, if it's your first time opening Strange Eons for this project:\n",
    "\n",
    "1. Open each of the files in \"template\" and edit the \"Collection\" tab for each one as needed for the project.\n",
    "2. Run the makeCards script by double clicking it. This will take the templates, fill them with the text from the setEons.xml generated above, and save them under the \"new\" folder in Strange Eons.\n",
    "3. Move all the files in \"new\" to \"current\".\n",
    "\n",
    "### To add images:\n",
    "1. Open up a file in \"current\"\n",
    "2. Click on the Portrait tab\n",
    "3. From your computer, navigate to the imagesRaw folder and drag an image from there into Strange Eons to add it to the card.\n",
    "4. Within Strange Eons, move and scale the image as necessary.\n",
    "5. If it's an encounter card, do the same thing with the encounter set icon with the Encounter Set tab and the imagesIcons folder.\n",
    "6. Save the file, close it, and move on to the next.\n",
    "7. Note: If you do any modifications to the text, they will not be preserved by the next macro. Modifications to the text should be done only in the original Google sheet.\n",
    "\n",
    "### To update text without messing up the images:\n",
    "1. Modify the Google sheet text.\n",
    "2. Run the above python cells to update the setEons.xml file. \n",
    "3. Run the updateCards script in Strange Eons by double clicking it. This will take the cards in \"current\", which should have images now, put in the updated text from the setEons.xml generated above, and save them under the \"updated\" folder in Strange Eons.\n",
    "\n",
    "### To export the cards\n",
    "1. Make sure the \"Bulk Export\" Plug-in is installed.\n",
    "2. Right-click the \"updated\" folder, click on \"Bulk Export, choose the settings you want, and hit \"Export\"\n",
    "3. Once complete, copy all the files in \"updated\" to your imagesEons folder (the .eon file too if you want).\n",
    "\n",
    "### Important: Dealing with name, id, etc. changes\n",
    "Since the Card Number, Quantity, Name, and OCTGN ID all appear in the file name, any changes to these values will result in a desyncronization when trying to run updateCards. Here are the steps to follow in this case:\n",
    "1. In the \"current\" Strange Eons folder, manually fix the relevant file name.\n",
    "2. If your modification resulted in a longer filename, remove some \"-\" characters so that the total number of characters in the file name stays constant.\n",
    "3. Alternatively, if your modification resulted in a shorter filename, add extra \"-\" characters so that the total number of characters in the file name stays constant.\n",
    "4. Then, run the updateCards script."
   ]
  },
  {
   "cell_type": "markdown",
   "metadata": {},
   "source": [
    "## Update OCTGN"
   ]
  },
  {
   "cell_type": "code",
   "execution_count": 102,
   "metadata": {},
   "outputs": [],
   "source": [
    "import os\n",
    "# Directory of OCTGN installation\n",
    "dirOCTGN = os.path.expanduser('~')+'\\\\Documents\\\\OCTGN\\\\'\n",
    "if not os.path.isdir(dirOCTGN): print('Invalid path!')"
   ]
  },
  {
   "cell_type": "code",
   "execution_count": 113,
   "metadata": {},
   "outputs": [
    {
     "name": "stdout",
     "output_type": "stream",
     "text": [
      "Working...\n",
      "Finished.\n"
     ]
    }
   ],
   "source": [
    "#Make Image Pack\n",
    "import os.path\n",
    "import zipfile\n",
    "import shutil\n",
    "\n",
    "# Move files from startpath to newpath, then scan through files, processes them, and add them to a zip file to create an image pack\n",
    "def zipdir(startpath, newpath, ziph):\n",
    "    # Move files in current directory to new directory\n",
    "    for root, dirs, files in os.walk(startpath):\n",
    "        for file in files:\n",
    "            oldfile = startpath+'/'+file\n",
    "            if (file.endswith('.png') and os.path.isfile(oldfile)):\n",
    "                newfile=newpath+file\n",
    "                shutil.copyfile(oldfile, newfile)\n",
    "                \n",
    "    # Zip files in new directory\n",
    "    for root, dirs, files in os.walk(newpath):\n",
    "        for file in files:\n",
    "            if file.endswith('-1.png'):\n",
    "                shutil.move(newpath+file, newpath+file.replace('-1.png', '.png'))\n",
    "                file = file.replace('-1.png', '.png')\n",
    "            if file.endswith('-2.png'):\n",
    "                shutil.move(newpath+file, newpath+file.replace('-2.png', '.B.png'))\n",
    "                file = file.replace('-2.png', '.B.png')\n",
    "            if (file.endswith('.png')):\n",
    "                if len(file)>50: \n",
    "                        shutil.move(newpath+file, newpath+file[50:])\n",
    "                        file = file[50:]\n",
    "                ziph.write(os.path.join(root, file))\n",
    "\n",
    "\n",
    "# Current directory\n",
    "cwd = os.getcwd()\n",
    "\n",
    "# OCTGN Set ID obtained by looking at the folders generated by the excel SaveOCTGN script\n",
    "octgnids = os.listdir(cwd+'/setOCTGN')\n",
    "if len(octgnids) == 0:\n",
    "    print(\"No set folder found in ./setOCTGN. Did you run the excel script?\")\n",
    "else:\n",
    "    for octgnid in octgnids:\n",
    "        # Make directory tree to store images that will be converted to an image pack\n",
    "        newpath = \".\\\\imagesOCTGN\\\\a21af4e8-be4b-4cda-a6b6-534f9717391f\\\\Sets\\\\\"+octgnid+\"\\\\Cards\\\\\"\n",
    "        if not os.path.exists(newpath):\n",
    "            os.makedirs(newpath)\n",
    "\n",
    "        # Remove any existing image pack\n",
    "        fname = 'imagePack_'+octgnid+'.o8c'\n",
    "        if os.path.isfile(fname): os.remove(fname)\n",
    "\n",
    "        # Make a zip file\n",
    "        zipf = zipfile.ZipFile(fname, 'w', zipfile.ZIP_DEFLATED)\n",
    "\n",
    "        # Add images to the zip file\n",
    "        print('Working...')\n",
    "        zipdir('./imagesEons',newpath, zipf)\n",
    "        print('Finished.')\n",
    "\n",
    "        # Close the zip file\n",
    "        zipf.close()\n",
    "        \n",
    "        # Now there should be an imagePack_<octgnid>.o8c file in the main directory. \n",
    "        # Open that using the \"Add Image Packs\" button from within OCTGN to add it.\n"
   ]
  },
  {
   "cell_type": "code",
   "execution_count": 109,
   "metadata": {},
   "outputs": [
    {
     "name": "stdout",
     "output_type": "stream",
     "text": [
      "Copied successfully.\n"
     ]
    }
   ],
   "source": [
    "# Copy set folder to OCTGN directory\n",
    "from distutils.dir_util import copy_tree\n",
    "setspath = dirOCTGN+'\\\\GameDatabase\\\\a21af4e8-be4b-4cda-a6b6-534f9717391f\\\\Sets\\\\'\n",
    "if os.path.isdir(dirOCTGN):\n",
    "    if os.path.isdir('.\\\\setOCTGN\\\\'+octgnid):\n",
    "        copy_tree('.\\\\setOCTGN\\\\'+octgnid, setspath+octgnid)\n",
    "        print('Copied successfully.')\n",
    "    else:\n",
    "        print('No folder found to move.')\n",
    "else:\n",
    "    print('OCTGN Sets folder not found.')"
   ]
  },
  {
   "cell_type": "code",
   "execution_count": null,
   "metadata": {},
   "outputs": [],
   "source": []
  }
 ],
 "metadata": {
  "kernelspec": {
   "display_name": "Python 3",
   "language": "python",
   "name": "python3"
  },
  "language_info": {
   "codemirror_mode": {
    "name": "ipython",
    "version": 3
   },
   "file_extension": ".py",
   "mimetype": "text/x-python",
   "name": "python",
   "nbconvert_exporter": "python",
   "pygments_lexer": "ipython3",
   "version": "3.7.8"
  }
 },
 "nbformat": 4,
 "nbformat_minor": 4
}
